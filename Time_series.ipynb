{
 "cells": [
  {
   "cell_type": "code",
   "execution_count": 1,
   "metadata": {},
   "outputs": [],
   "source": [
    "import pandas as pd\n",
    "import numpy as np"
   ]
  },
  {
   "cell_type": "markdown",
   "metadata": {},
   "source": [
    "# Time in Pandas\n",
    "https://pandas.pydata.org/docs/user_guide/timeseries.html#timeseries-offset-aliases\n",
    "\n",
    "4 kinds in Pandas:\n",
    "- Date times: \n",
    "\n",
    "    Creation: `to_datetime`, `date_range`\n",
    "\n",
    "    Scalar (single value): `Timestamp`\n",
    "\n",
    "- Time deltas:\n",
    "\n",
    "    Creation: `to_timedelta`, `timedelta_range`\n",
    "\n",
    "    Scalar (single value): `Timedelta`\n",
    "\n",
    "- Time spans:\n",
    "\n",
    "    Creation: `Period`, `Period_range`\n",
    "\n",
    "    Scalar (single value): `Period`\n",
    "\n",
    "- Date offsets:\n",
    "\n",
    "    Creation: `DateOffset`\n",
    "\n",
    "    Scalar: `DateOffset`\n"
   ]
  },
  {
   "cell_type": "markdown",
   "metadata": {},
   "source": [
    "## Frequency\n",
    "\n",
    "*S after a freq represents start. B in front of a freq means business setting*. \n",
    "\n",
    "B: business day\n",
    "\n",
    "C: custom business day\n",
    "\n",
    "D: calendar day\n",
    "\n",
    "W: weekly\n",
    "\n",
    "M: month **end**\n",
    "\n",
    "SM: semi-month end\n",
    "\n",
    "BM: business month end\n",
    "\n",
    "MS: month **start**\n",
    "\n",
    "Q: quarter\n",
    "\n",
    "BQ: business quarter end\n",
    "\n",
    "Y: year end\n",
    "\n",
    "H: hour\n",
    "\n",
    "T: minute\n",
    "\n",
    "S: second"
   ]
  },
  {
   "cell_type": "code",
   "execution_count": 2,
   "metadata": {},
   "outputs": [
    {
     "data": {
      "text/plain": [
       "DatetimeIndex(['2022-01-01', '2023-01-01', '2024-01-01', '2025-01-01',\n",
       "               '2026-01-01', '2027-01-01', '2028-01-01'],\n",
       "              dtype='datetime64[ns]', freq='AS-JAN')"
      ]
     },
     "execution_count": 2,
     "metadata": {},
     "output_type": "execute_result"
    }
   ],
   "source": [
    "pd.date_range('2022-01-01', periods=7, freq='AS')"
   ]
  },
  {
   "cell_type": "markdown",
   "metadata": {},
   "source": [
    "**Custom Frequency**\n",
    "\n",
    "When customizing frequency, one have to use `bdate_range` rather than `date_range`."
   ]
  },
  {
   "cell_type": "code",
   "execution_count": 3,
   "metadata": {},
   "outputs": [
    {
     "data": {
      "text/plain": [
       "DatetimeIndex(['2022-01-03', '2022-01-07', '2022-01-10', '2022-01-12',\n",
       "               '2022-01-14', '2022-01-17', '2022-01-19', '2022-01-21',\n",
       "               '2022-01-24', '2022-01-26'],\n",
       "              dtype='datetime64[ns]', freq='C')"
      ]
     },
     "execution_count": 3,
     "metadata": {},
     "output_type": "execute_result"
    }
   ],
   "source": [
    "weekmask = 'Mon Wed Fri'\n",
    "holidays = ['2022-01-05']\n",
    "pd.bdate_range('2022-01-01', periods=10, freq='C', weekmask=weekmask, holidays=holidays)"
   ]
  },
  {
   "cell_type": "markdown",
   "metadata": {},
   "source": [
    "## Time Zone\n",
    "- `tz_localize` sets time zone for an unset time series.\n",
    "- `tz_convert` turns same time to a different time zone only. Time will change.\n",
    "> What if you want to change time zone while keep time value unchanged? Firstly, set time zone to None, then set it to the one you want. \n",
    "`\n",
    "s = s.tz_localize(\"UTC\")\n",
    "s = s.tz_convert(\"America/New_York\")\n",
    "s = s.tz_localize(None)\n",
    "s.tz_localize(\"UTC\")\n",
    "`\n"
   ]
  },
  {
   "cell_type": "code",
   "execution_count": 31,
   "metadata": {},
   "outputs": [
    {
     "name": "stdout",
     "output_type": "stream",
     "text": [
      "DatetimeIndex(['2022-01-01 00:00:00+00:00', '2022-01-02 00:00:00+00:00',\n",
      "               '2022-01-03 00:00:00+00:00', '2022-01-04 00:00:00+00:00',\n",
      "               '2022-01-05 00:00:00+00:00', '2022-01-06 00:00:00+00:00',\n",
      "               '2022-01-07 00:00:00+00:00'],\n",
      "              dtype='datetime64[ns, UTC]', freq='D')\n",
      "DatetimeIndex(['2021-12-31 16:00:00-08:00', '2022-01-01 16:00:00-08:00',\n",
      "               '2022-01-02 16:00:00-08:00', '2022-01-03 16:00:00-08:00',\n",
      "               '2022-01-04 16:00:00-08:00', '2022-01-05 16:00:00-08:00',\n",
      "               '2022-01-06 16:00:00-08:00'],\n",
      "              dtype='datetime64[ns, US/Pacific]', freq='D')\n"
     ]
    }
   ],
   "source": [
    "time = pd.date_range('2022-01-01', periods=7, freq='D', tz='UTC')\n",
    "# time = time.tz_localize('UTC')\n",
    "print(time)\n",
    "time = time.tz_convert('US/Pacific')\n",
    "print(time)"
   ]
  },
  {
   "cell_type": "markdown",
   "metadata": {},
   "source": [
    "## Resample\n",
    "Only apply to `pd.Series`."
   ]
  },
  {
   "cell_type": "code",
   "execution_count": 5,
   "metadata": {},
   "outputs": [
    {
     "data": {
      "text/plain": [
       "2021-12-31 00:00:00-08:00    0.5\n",
       "2022-01-02 00:00:00-08:00    2.5\n",
       "2022-01-04 00:00:00-08:00    4.5\n",
       "2022-01-06 00:00:00-08:00    6.0\n",
       "Freq: 2D, dtype: float64"
      ]
     },
     "execution_count": 5,
     "metadata": {},
     "output_type": "execute_result"
    }
   ],
   "source": [
    "# time.resample('2D').mean() <- this does not work. \n",
    "ts = pd.Series(range(len(time)), index=time)\n",
    "ts.resample('2D').mean()"
   ]
  },
  {
   "cell_type": "markdown",
   "metadata": {},
   "source": [
    "## Offsets\n",
    "A easier way to increment certain time period than `pd.Timedelta`."
   ]
  },
  {
   "cell_type": "code",
   "execution_count": 6,
   "metadata": {},
   "outputs": [
    {
     "name": "stdout",
     "output_type": "stream",
     "text": [
      "<built-in method day_name of Timestamp object at 0x7feab5dba3d0> 5 1 False True\n",
      "2022-01-02 00:00:00\n",
      "2022-02-28 00:00:00\n"
     ]
    }
   ],
   "source": [
    "tp = pd.Timestamp('2022-01-01')\n",
    "print(tp.day_name, tp.day_of_week, tp.day_of_year, tp.is_leap_year, tp.is_month_start)\n",
    "tp = tp + pd.Timedelta('1 day')\n",
    "print(tp)\n",
    "\n",
    "tp = tp + pd.offsets.MonthEnd(2)\n",
    "print(tp)"
   ]
  },
  {
   "cell_type": "code",
   "execution_count": 7,
   "metadata": {},
   "outputs": [
    {
     "name": "stdout",
     "output_type": "stream",
     "text": [
      "2014-01-02 00:00:00\n"
     ]
    }
   ],
   "source": [
    "from pandas.tseries.holiday import USFederalHolidayCalendar\n",
    "bm_us = pd.offsets.CustomBusinessMonthBegin(calendar=USFederalHolidayCalendar())\n",
    "dt = pd.to_datetime('2013-12-17')\n",
    "print(dt + bm_us)"
   ]
  },
  {
   "cell_type": "markdown",
   "metadata": {},
   "source": [
    "## Periods"
   ]
  },
  {
   "cell_type": "code",
   "execution_count": 8,
   "metadata": {},
   "outputs": [
    {
     "data": {
      "text/plain": [
       "PeriodIndex(['2022-01', '2022-02', '2022-03'], dtype='period[M]')"
      ]
     },
     "execution_count": 8,
     "metadata": {},
     "output_type": "execute_result"
    }
   ],
   "source": [
    "pd.period_range('2022-01-01', freq='M', periods=3)"
   ]
  },
  {
   "cell_type": "code",
   "execution_count": 9,
   "metadata": {},
   "outputs": [
    {
     "data": {
      "text/plain": [
       "Period('2022', 'A-DEC')"
      ]
     },
     "execution_count": 9,
     "metadata": {},
     "output_type": "execute_result"
    }
   ],
   "source": [
    "pd.Period('2022')"
   ]
  },
  {
   "cell_type": "markdown",
   "metadata": {},
   "source": [
    "## Timestamps\n",
    "`errors` parameter can be `raise`, `ignore`, `coerce`."
   ]
  },
  {
   "cell_type": "code",
   "execution_count": 10,
   "metadata": {},
   "outputs": [
    {
     "data": {
      "text/plain": [
       "DatetimeIndex(['2006-12-31', '2022-01-01'], dtype='datetime64[ns]', freq=None)"
      ]
     },
     "execution_count": 10,
     "metadata": {},
     "output_type": "execute_result"
    }
   ],
   "source": [
    "pd.to_datetime(['2006-12-31 00:00', '2022-01-01 00:00'], format='%Y-%m-%d %H:%M')"
   ]
  },
  {
   "cell_type": "markdown",
   "metadata": {},
   "source": [
    "Generate time from data frame. "
   ]
  },
  {
   "cell_type": "code",
   "execution_count": 11,
   "metadata": {},
   "outputs": [
    {
     "data": {
      "text/plain": [
       "0   2015-02-04\n",
       "1   2016-03-05\n",
       "dtype: datetime64[ns]"
      ]
     },
     "execution_count": 11,
     "metadata": {},
     "output_type": "execute_result"
    }
   ],
   "source": [
    "df = pd.DataFrame({\"year\": [2015, 2016], \"month\": [2, 3], \"day\": [4, 5], \"hour\": [2, 3]})\n",
    "pd.to_datetime(df[['year', 'month', 'day']])"
   ]
  },
  {
   "cell_type": "markdown",
   "metadata": {},
   "source": [
    "Generate from `unit`, which can be D, s, ms, us, ns."
   ]
  },
  {
   "cell_type": "markdown",
   "metadata": {},
   "source": [
    "> **Warning**\n",
    "cannot take in tz for `to_datetime`"
   ]
  },
  {
   "cell_type": "code",
   "execution_count": 12,
   "metadata": {},
   "outputs": [
    {
     "data": {
      "text/plain": [
       "DatetimeIndex(['2012-10-08 18:15:05+00:00', '2012-10-09 18:15:05+00:00',\n",
       "               '2012-10-10 18:15:05+00:00', '2012-10-11 18:15:05+00:00',\n",
       "               '2012-10-12 18:15:05+00:00'],\n",
       "              dtype='datetime64[ns, UTC]', freq=None)"
      ]
     },
     "execution_count": 12,
     "metadata": {},
     "output_type": "execute_result"
    }
   ],
   "source": [
    "pd.to_datetime([1349720105, 1349806505, 1349892905, 1349979305, 1350065705], unit=\"s\").tz_localize(\n",
    "    'UTC')"
   ]
  },
  {
   "cell_type": "code",
   "execution_count": 13,
   "metadata": {},
   "outputs": [
    {
     "data": {
      "text/plain": [
       "DatetimeIndex(['1960-01-02', '1960-01-03', '1960-01-04'], dtype='datetime64[ns]', freq=None)"
      ]
     },
     "execution_count": 13,
     "metadata": {},
     "output_type": "execute_result"
    }
   ],
   "source": [
    "pd.to_datetime([1, 2, 3], unit='D', origin='1960-01-01')"
   ]
  },
  {
   "cell_type": "markdown",
   "metadata": {},
   "source": [
    "## Indexing"
   ]
  },
  {
   "cell_type": "code",
   "execution_count": 14,
   "metadata": {},
   "outputs": [
    {
     "name": "stderr",
     "output_type": "stream",
     "text": [
      "/Users/louxiao/opt/anaconda3/lib/python3.7/site-packages/ipykernel_launcher.py:3: FutureWarning: Indexing a DataFrame with a datetimelike index using a single string to slice the rows, like `frame[string]`, is deprecated and will be removed in a future version. Use `frame.loc[string]` instead.\n",
      "  This is separate from the ipykernel package so we can avoid doing imports until\n"
     ]
    },
    {
     "data": {
      "text/html": [
       "<div>\n",
       "<style scoped>\n",
       "    .dataframe tbody tr th:only-of-type {\n",
       "        vertical-align: middle;\n",
       "    }\n",
       "\n",
       "    .dataframe tbody tr th {\n",
       "        vertical-align: top;\n",
       "    }\n",
       "\n",
       "    .dataframe thead th {\n",
       "        text-align: right;\n",
       "    }\n",
       "</style>\n",
       "<table border=\"1\" class=\"dataframe\">\n",
       "  <thead>\n",
       "    <tr style=\"text-align: right;\">\n",
       "      <th></th>\n",
       "      <th>A</th>\n",
       "    </tr>\n",
       "  </thead>\n",
       "  <tbody>\n",
       "    <tr>\n",
       "      <th>2013-02-01 00:00:00</th>\n",
       "      <td>1.107649</td>\n",
       "    </tr>\n",
       "    <tr>\n",
       "      <th>2013-02-01 00:01:00</th>\n",
       "      <td>0.017097</td>\n",
       "    </tr>\n",
       "    <tr>\n",
       "      <th>2013-02-01 00:02:00</th>\n",
       "      <td>1.145414</td>\n",
       "    </tr>\n",
       "    <tr>\n",
       "      <th>2013-02-01 00:03:00</th>\n",
       "      <td>-0.284023</td>\n",
       "    </tr>\n",
       "    <tr>\n",
       "      <th>2013-02-01 00:04:00</th>\n",
       "      <td>-0.094950</td>\n",
       "    </tr>\n",
       "    <tr>\n",
       "      <th>...</th>\n",
       "      <td>...</td>\n",
       "    </tr>\n",
       "    <tr>\n",
       "      <th>2013-02-28 23:55:00</th>\n",
       "      <td>-0.623602</td>\n",
       "    </tr>\n",
       "    <tr>\n",
       "      <th>2013-02-28 23:56:00</th>\n",
       "      <td>-0.205251</td>\n",
       "    </tr>\n",
       "    <tr>\n",
       "      <th>2013-02-28 23:57:00</th>\n",
       "      <td>0.818553</td>\n",
       "    </tr>\n",
       "    <tr>\n",
       "      <th>2013-02-28 23:58:00</th>\n",
       "      <td>-0.692909</td>\n",
       "    </tr>\n",
       "    <tr>\n",
       "      <th>2013-02-28 23:59:00</th>\n",
       "      <td>-1.104961</td>\n",
       "    </tr>\n",
       "  </tbody>\n",
       "</table>\n",
       "<p>40320 rows × 1 columns</p>\n",
       "</div>"
      ],
      "text/plain": [
       "                            A\n",
       "2013-02-01 00:00:00  1.107649\n",
       "2013-02-01 00:01:00  0.017097\n",
       "2013-02-01 00:02:00  1.145414\n",
       "2013-02-01 00:03:00 -0.284023\n",
       "2013-02-01 00:04:00 -0.094950\n",
       "...                       ...\n",
       "2013-02-28 23:55:00 -0.623602\n",
       "2013-02-28 23:56:00 -0.205251\n",
       "2013-02-28 23:57:00  0.818553\n",
       "2013-02-28 23:58:00 -0.692909\n",
       "2013-02-28 23:59:00 -1.104961\n",
       "\n",
       "[40320 rows x 1 columns]"
      ]
     },
     "execution_count": 14,
     "metadata": {},
     "output_type": "execute_result"
    }
   ],
   "source": [
    "dft = pd.DataFrame(np.random.randn(100000, 1), columns=[\"A\"], index=pd.date_range(\n",
    "    \"20130101\", periods=100000, freq=\"T\"))\n",
    "dft['2013-02']\n",
    "dft.loc['2013-02', ]"
   ]
  },
  {
   "cell_type": "markdown",
   "metadata": {},
   "source": [
    "In particular, ``loc`` includes both start time/index and end time/index. \n",
    "\n",
    "Now, consider multi-indexing..."
   ]
  },
  {
   "cell_type": "code",
   "execution_count": 15,
   "metadata": {},
   "outputs": [
    {
     "data": {
      "text/html": [
       "<div>\n",
       "<style scoped>\n",
       "    .dataframe tbody tr th:only-of-type {\n",
       "        vertical-align: middle;\n",
       "    }\n",
       "\n",
       "    .dataframe tbody tr th {\n",
       "        vertical-align: top;\n",
       "    }\n",
       "\n",
       "    .dataframe thead th {\n",
       "        text-align: right;\n",
       "    }\n",
       "</style>\n",
       "<table border=\"1\" class=\"dataframe\">\n",
       "  <thead>\n",
       "    <tr style=\"text-align: right;\">\n",
       "      <th></th>\n",
       "      <th></th>\n",
       "      <th>A</th>\n",
       "    </tr>\n",
       "  </thead>\n",
       "  <tbody>\n",
       "    <tr>\n",
       "      <th rowspan=\"2\" valign=\"top\">2013-01-05 00:00:00</th>\n",
       "      <th>a</th>\n",
       "      <td>-0.903898</td>\n",
       "    </tr>\n",
       "    <tr>\n",
       "      <th>b</th>\n",
       "      <td>-1.341907</td>\n",
       "    </tr>\n",
       "    <tr>\n",
       "      <th rowspan=\"2\" valign=\"top\">2013-01-05 12:00:00</th>\n",
       "      <th>a</th>\n",
       "      <td>0.974539</td>\n",
       "    </tr>\n",
       "    <tr>\n",
       "      <th>b</th>\n",
       "      <td>-1.667954</td>\n",
       "    </tr>\n",
       "  </tbody>\n",
       "</table>\n",
       "</div>"
      ],
      "text/plain": [
       "                              A\n",
       "2013-01-05 00:00:00 a -0.903898\n",
       "                    b -1.341907\n",
       "2013-01-05 12:00:00 a  0.974539\n",
       "                    b -1.667954"
      ]
     },
     "execution_count": 15,
     "metadata": {},
     "output_type": "execute_result"
    }
   ],
   "source": [
    "dft2 = pd.DataFrame(np.random.randn(20, 1), columns=[\"A\"], \n",
    "                    index=pd.MultiIndex.from_product([pd.date_range(\"20130101\", periods=10, freq=\"12H\"), [\"a\", \"b\"]]), )\n",
    "\n",
    "# dft2['2013-01-05'] <- this can not work. \n",
    "dft2.loc['2013-01-05']"
   ]
  },
  {
   "cell_type": "markdown",
   "metadata": {},
   "source": [
    "Another way to select: `truncate`. Use `before` and `after` to truncate the unwanted dates. "
   ]
  },
  {
   "cell_type": "code",
   "execution_count": 16,
   "metadata": {},
   "outputs": [
    {
     "data": {
      "text/html": [
       "<div>\n",
       "<style scoped>\n",
       "    .dataframe tbody tr th:only-of-type {\n",
       "        vertical-align: middle;\n",
       "    }\n",
       "\n",
       "    .dataframe tbody tr th {\n",
       "        vertical-align: top;\n",
       "    }\n",
       "\n",
       "    .dataframe thead th {\n",
       "        text-align: right;\n",
       "    }\n",
       "</style>\n",
       "<table border=\"1\" class=\"dataframe\">\n",
       "  <thead>\n",
       "    <tr style=\"text-align: right;\">\n",
       "      <th></th>\n",
       "      <th>A</th>\n",
       "    </tr>\n",
       "  </thead>\n",
       "  <tbody>\n",
       "    <tr>\n",
       "      <th>2013-02-05 00:00:00</th>\n",
       "      <td>-0.597508</td>\n",
       "    </tr>\n",
       "    <tr>\n",
       "      <th>2013-02-05 00:01:00</th>\n",
       "      <td>-0.366146</td>\n",
       "    </tr>\n",
       "    <tr>\n",
       "      <th>2013-02-05 00:02:00</th>\n",
       "      <td>-0.524385</td>\n",
       "    </tr>\n",
       "    <tr>\n",
       "      <th>2013-02-05 00:03:00</th>\n",
       "      <td>0.538110</td>\n",
       "    </tr>\n",
       "    <tr>\n",
       "      <th>2013-02-05 00:04:00</th>\n",
       "      <td>-0.630086</td>\n",
       "    </tr>\n",
       "    <tr>\n",
       "      <th>...</th>\n",
       "      <td>...</td>\n",
       "    </tr>\n",
       "    <tr>\n",
       "      <th>2013-02-19 23:56:00</th>\n",
       "      <td>0.328519</td>\n",
       "    </tr>\n",
       "    <tr>\n",
       "      <th>2013-02-19 23:57:00</th>\n",
       "      <td>-0.904153</td>\n",
       "    </tr>\n",
       "    <tr>\n",
       "      <th>2013-02-19 23:58:00</th>\n",
       "      <td>0.222557</td>\n",
       "    </tr>\n",
       "    <tr>\n",
       "      <th>2013-02-19 23:59:00</th>\n",
       "      <td>-2.068167</td>\n",
       "    </tr>\n",
       "    <tr>\n",
       "      <th>2013-02-20 00:00:00</th>\n",
       "      <td>-0.367701</td>\n",
       "    </tr>\n",
       "  </tbody>\n",
       "</table>\n",
       "<p>21601 rows × 1 columns</p>\n",
       "</div>"
      ],
      "text/plain": [
       "                            A\n",
       "2013-02-05 00:00:00 -0.597508\n",
       "2013-02-05 00:01:00 -0.366146\n",
       "2013-02-05 00:02:00 -0.524385\n",
       "2013-02-05 00:03:00  0.538110\n",
       "2013-02-05 00:04:00 -0.630086\n",
       "...                       ...\n",
       "2013-02-19 23:56:00  0.328519\n",
       "2013-02-19 23:57:00 -0.904153\n",
       "2013-02-19 23:58:00  0.222557\n",
       "2013-02-19 23:59:00 -2.068167\n",
       "2013-02-20 00:00:00 -0.367701\n",
       "\n",
       "[21601 rows x 1 columns]"
      ]
     },
     "execution_count": 16,
     "metadata": {},
     "output_type": "execute_result"
    }
   ],
   "source": [
    "dft.truncate(before='2013-02-05', after='2013-02-20')"
   ]
  },
  {
   "cell_type": "markdown",
   "metadata": {},
   "source": [
    "## Shift\n",
    "When takes in a `freq` parameter, the dataframe change the datetime index instead of the values. "
   ]
  },
  {
   "cell_type": "code",
   "execution_count": 17,
   "metadata": {},
   "outputs": [
    {
     "data": {
      "text/plain": [
       "2020-01-01    0\n",
       "2020-01-03    1\n",
       "2020-01-07    2\n",
       "2020-01-09    3\n",
       "2020-01-13    4\n",
       "Freq: 2B, dtype: int64"
      ]
     },
     "execution_count": 17,
     "metadata": {},
     "output_type": "execute_result"
    }
   ],
   "source": [
    "index = pd.date_range(start='2020-01-01', periods=60, freq='2B')\n",
    "ts = pd.Series(range(len(index)), index=index)\n",
    "ts.head()"
   ]
  },
  {
   "cell_type": "code",
   "execution_count": 18,
   "metadata": {},
   "outputs": [
    {
     "data": {
      "text/plain": [
       "2020-01-02    0\n",
       "2020-01-06    1\n",
       "2020-01-08    2\n",
       "2020-01-10    3\n",
       "2020-01-14    4\n",
       "dtype: int64"
      ]
     },
     "execution_count": 18,
     "metadata": {},
     "output_type": "execute_result"
    }
   ],
   "source": [
    "ts.shift(1, freq='B').head()"
   ]
  },
  {
   "cell_type": "markdown",
   "metadata": {},
   "source": [
    "## Frequency Change\n",
    "For `asfreq`, basically it's based on date_range and reindex. \n",
    "\n",
    "https://pandas.pydata.org/docs/reference/api/pandas.Series.asfreq.html#pandas.Series.asfreq\n",
    "\n",
    "‘pad’ / ‘ffill’: propagate last valid observation forward to next valid\n",
    "\n",
    "‘backfill’ / ‘bfill’: use NEXT valid observation to fill."
   ]
  },
  {
   "cell_type": "code",
   "execution_count": 19,
   "metadata": {},
   "outputs": [
    {
     "name": "stdout",
     "output_type": "stream",
     "text": [
      "2020-01-01     0\n",
      "2020-01-02    -1\n",
      "2020-01-03     1\n",
      "2020-01-06    -1\n",
      "2020-01-07     2\n",
      "              ..\n",
      "2020-06-09    57\n",
      "2020-06-10    -1\n",
      "2020-06-11    58\n",
      "2020-06-12    -1\n",
      "2020-06-15    59\n",
      "Freq: B, Length: 119, dtype: int64\n"
     ]
    },
    {
     "data": {
      "text/plain": [
       "2020-01-01    0\n",
       "2020-01-06    1\n",
       "2020-01-09    3\n",
       "2020-01-14    4\n",
       "2020-01-17    6\n",
       "Freq: 3B, dtype: int64"
      ]
     },
     "execution_count": 19,
     "metadata": {},
     "output_type": "execute_result"
    }
   ],
   "source": [
    "print(ts.asfreq(freq='B', fill_value=-1))\n",
    "ts.asfreq(freq='3B', method=\"pad\").head()"
   ]
  },
  {
   "cell_type": "markdown",
   "metadata": {},
   "source": [
    "Another powerful tool is `resample`, which is based on groupby.\n",
    "For downsampling, it should be followed by methods:\n",
    "- sum, mean, std, sem, max, min, median, first, last, `ohlc`, first, last, quantile, agg"
   ]
  },
  {
   "cell_type": "code",
   "execution_count": 20,
   "metadata": {},
   "outputs": [
    {
     "data": {
      "text/html": [
       "<div>\n",
       "<style scoped>\n",
       "    .dataframe tbody tr th:only-of-type {\n",
       "        vertical-align: middle;\n",
       "    }\n",
       "\n",
       "    .dataframe tbody tr th {\n",
       "        vertical-align: top;\n",
       "    }\n",
       "\n",
       "    .dataframe thead th {\n",
       "        text-align: right;\n",
       "    }\n",
       "</style>\n",
       "<table border=\"1\" class=\"dataframe\">\n",
       "  <thead>\n",
       "    <tr style=\"text-align: right;\">\n",
       "      <th></th>\n",
       "      <th>open</th>\n",
       "      <th>high</th>\n",
       "      <th>low</th>\n",
       "      <th>close</th>\n",
       "    </tr>\n",
       "  </thead>\n",
       "  <tbody>\n",
       "    <tr>\n",
       "      <th>2020-01-01</th>\n",
       "      <td>0</td>\n",
       "      <td>4</td>\n",
       "      <td>0</td>\n",
       "      <td>4</td>\n",
       "    </tr>\n",
       "    <tr>\n",
       "      <th>2020-01-15</th>\n",
       "      <td>5</td>\n",
       "      <td>9</td>\n",
       "      <td>5</td>\n",
       "      <td>9</td>\n",
       "    </tr>\n",
       "    <tr>\n",
       "      <th>2020-01-29</th>\n",
       "      <td>10</td>\n",
       "      <td>14</td>\n",
       "      <td>10</td>\n",
       "      <td>14</td>\n",
       "    </tr>\n",
       "    <tr>\n",
       "      <th>2020-02-12</th>\n",
       "      <td>15</td>\n",
       "      <td>19</td>\n",
       "      <td>15</td>\n",
       "      <td>19</td>\n",
       "    </tr>\n",
       "    <tr>\n",
       "      <th>2020-02-26</th>\n",
       "      <td>20</td>\n",
       "      <td>24</td>\n",
       "      <td>20</td>\n",
       "      <td>24</td>\n",
       "    </tr>\n",
       "    <tr>\n",
       "      <th>2020-03-11</th>\n",
       "      <td>25</td>\n",
       "      <td>29</td>\n",
       "      <td>25</td>\n",
       "      <td>29</td>\n",
       "    </tr>\n",
       "    <tr>\n",
       "      <th>2020-03-25</th>\n",
       "      <td>30</td>\n",
       "      <td>34</td>\n",
       "      <td>30</td>\n",
       "      <td>34</td>\n",
       "    </tr>\n",
       "    <tr>\n",
       "      <th>2020-04-08</th>\n",
       "      <td>35</td>\n",
       "      <td>39</td>\n",
       "      <td>35</td>\n",
       "      <td>39</td>\n",
       "    </tr>\n",
       "    <tr>\n",
       "      <th>2020-04-22</th>\n",
       "      <td>40</td>\n",
       "      <td>44</td>\n",
       "      <td>40</td>\n",
       "      <td>44</td>\n",
       "    </tr>\n",
       "    <tr>\n",
       "      <th>2020-05-06</th>\n",
       "      <td>45</td>\n",
       "      <td>49</td>\n",
       "      <td>45</td>\n",
       "      <td>49</td>\n",
       "    </tr>\n",
       "    <tr>\n",
       "      <th>2020-05-20</th>\n",
       "      <td>50</td>\n",
       "      <td>54</td>\n",
       "      <td>50</td>\n",
       "      <td>54</td>\n",
       "    </tr>\n",
       "    <tr>\n",
       "      <th>2020-06-03</th>\n",
       "      <td>55</td>\n",
       "      <td>59</td>\n",
       "      <td>55</td>\n",
       "      <td>59</td>\n",
       "    </tr>\n",
       "  </tbody>\n",
       "</table>\n",
       "</div>"
      ],
      "text/plain": [
       "            open  high  low  close\n",
       "2020-01-01     0     4    0      4\n",
       "2020-01-15     5     9    5      9\n",
       "2020-01-29    10    14   10     14\n",
       "2020-02-12    15    19   15     19\n",
       "2020-02-26    20    24   20     24\n",
       "2020-03-11    25    29   25     29\n",
       "2020-03-25    30    34   30     34\n",
       "2020-04-08    35    39   35     39\n",
       "2020-04-22    40    44   40     44\n",
       "2020-05-06    45    49   45     49\n",
       "2020-05-20    50    54   50     54\n",
       "2020-06-03    55    59   55     59"
      ]
     },
     "execution_count": 20,
     "metadata": {},
     "output_type": "execute_result"
    }
   ],
   "source": [
    "ts.resample('10B', closed=\"left\", label='left').ohlc()"
   ]
  },
  {
   "cell_type": "code",
   "execution_count": 21,
   "metadata": {},
   "outputs": [
    {
     "data": {
      "text/html": [
       "<div>\n",
       "<style scoped>\n",
       "    .dataframe tbody tr th:only-of-type {\n",
       "        vertical-align: middle;\n",
       "    }\n",
       "\n",
       "    .dataframe tbody tr th {\n",
       "        vertical-align: top;\n",
       "    }\n",
       "\n",
       "    .dataframe thead th {\n",
       "        text-align: right;\n",
       "    }\n",
       "</style>\n",
       "<table border=\"1\" class=\"dataframe\">\n",
       "  <thead>\n",
       "    <tr style=\"text-align: right;\">\n",
       "      <th></th>\n",
       "      <th>mean</th>\n",
       "      <th>std</th>\n",
       "    </tr>\n",
       "  </thead>\n",
       "  <tbody>\n",
       "    <tr>\n",
       "      <th>2020-01-01</th>\n",
       "      <td>2.0</td>\n",
       "      <td>1.581139</td>\n",
       "    </tr>\n",
       "    <tr>\n",
       "      <th>2020-01-15</th>\n",
       "      <td>7.0</td>\n",
       "      <td>1.581139</td>\n",
       "    </tr>\n",
       "    <tr>\n",
       "      <th>2020-01-29</th>\n",
       "      <td>12.0</td>\n",
       "      <td>1.581139</td>\n",
       "    </tr>\n",
       "    <tr>\n",
       "      <th>2020-02-12</th>\n",
       "      <td>17.0</td>\n",
       "      <td>1.581139</td>\n",
       "    </tr>\n",
       "    <tr>\n",
       "      <th>2020-02-26</th>\n",
       "      <td>22.0</td>\n",
       "      <td>1.581139</td>\n",
       "    </tr>\n",
       "    <tr>\n",
       "      <th>2020-03-11</th>\n",
       "      <td>27.0</td>\n",
       "      <td>1.581139</td>\n",
       "    </tr>\n",
       "    <tr>\n",
       "      <th>2020-03-25</th>\n",
       "      <td>32.0</td>\n",
       "      <td>1.581139</td>\n",
       "    </tr>\n",
       "    <tr>\n",
       "      <th>2020-04-08</th>\n",
       "      <td>37.0</td>\n",
       "      <td>1.581139</td>\n",
       "    </tr>\n",
       "    <tr>\n",
       "      <th>2020-04-22</th>\n",
       "      <td>42.0</td>\n",
       "      <td>1.581139</td>\n",
       "    </tr>\n",
       "    <tr>\n",
       "      <th>2020-05-06</th>\n",
       "      <td>47.0</td>\n",
       "      <td>1.581139</td>\n",
       "    </tr>\n",
       "    <tr>\n",
       "      <th>2020-05-20</th>\n",
       "      <td>52.0</td>\n",
       "      <td>1.581139</td>\n",
       "    </tr>\n",
       "    <tr>\n",
       "      <th>2020-06-03</th>\n",
       "      <td>57.0</td>\n",
       "      <td>1.581139</td>\n",
       "    </tr>\n",
       "  </tbody>\n",
       "</table>\n",
       "</div>"
      ],
      "text/plain": [
       "            mean       std\n",
       "2020-01-01   2.0  1.581139\n",
       "2020-01-15   7.0  1.581139\n",
       "2020-01-29  12.0  1.581139\n",
       "2020-02-12  17.0  1.581139\n",
       "2020-02-26  22.0  1.581139\n",
       "2020-03-11  27.0  1.581139\n",
       "2020-03-25  32.0  1.581139\n",
       "2020-04-08  37.0  1.581139\n",
       "2020-04-22  42.0  1.581139\n",
       "2020-05-06  47.0  1.581139\n",
       "2020-05-20  52.0  1.581139\n",
       "2020-06-03  57.0  1.581139"
      ]
     },
     "execution_count": 21,
     "metadata": {},
     "output_type": "execute_result"
    }
   ],
   "source": [
    "ts.resample('10B').agg(['mean', np.std])"
   ]
  },
  {
   "cell_type": "markdown",
   "metadata": {},
   "source": [
    "For upsampling, it should be followed by: \n",
    "- pad, asfreq, bfill, apply, interpolate, transform(lambda...), ffill, bfill"
   ]
  },
  {
   "cell_type": "code",
   "execution_count": 22,
   "metadata": {},
   "outputs": [
    {
     "data": {
      "text/plain": [
       "2020-01-01 00:00:00     0.000000\n",
       "2020-01-01 00:01:00     0.000439\n",
       "2020-01-01 00:02:00     0.000877\n",
       "2020-01-01 00:03:00     0.001316\n",
       "2020-01-01 00:04:00     0.001754\n",
       "                         ...    \n",
       "2020-06-14 23:56:00    58.999889\n",
       "2020-06-14 23:57:00    58.999916\n",
       "2020-06-14 23:58:00    58.999944\n",
       "2020-06-14 23:59:00    58.999972\n",
       "2020-06-15 00:00:00    59.000000\n",
       "Freq: T, Length: 239041, dtype: float64"
      ]
     },
     "execution_count": 22,
     "metadata": {},
     "output_type": "execute_result"
    }
   ],
   "source": [
    "ts.resample('T').interpolate(method='polynomial', order=2)"
   ]
  },
  {
   "cell_type": "markdown",
   "metadata": {},
   "source": [
    "## Period\n",
    "`Period`, `period_range`, `PeriodIndex`"
   ]
  },
  {
   "cell_type": "code",
   "execution_count": 23,
   "metadata": {},
   "outputs": [
    {
     "data": {
      "text/plain": [
       "Period('2012-01-01 00:00', 'H')"
      ]
     },
     "execution_count": 23,
     "metadata": {},
     "output_type": "execute_result"
    }
   ],
   "source": [
    "pd.Period('2012-1-1', freq='H')"
   ]
  },
  {
   "cell_type": "code",
   "execution_count": 24,
   "metadata": {},
   "outputs": [
    {
     "data": {
      "text/plain": [
       "Period('2012-01-01 02:00', 'H')"
      ]
     },
     "execution_count": 24,
     "metadata": {},
     "output_type": "execute_result"
    }
   ],
   "source": [
    "pd.Period('2012-1-1', freq='H') + pd.offsets.Hour(2)\n",
    "pd.Period('2012-1-1', freq='H') + pd.Timedelta('2H')"
   ]
  },
  {
   "cell_type": "code",
   "execution_count": 25,
   "metadata": {},
   "outputs": [
    {
     "data": {
      "text/plain": [
       "PeriodIndex(['2011-01', '2011-02', '2011-03'], dtype='period[M]')"
      ]
     },
     "execution_count": 25,
     "metadata": {},
     "output_type": "execute_result"
    }
   ],
   "source": [
    "pd.period_range('2011-01-01', '2012-01-01', freq='M')\n",
    "pd.PeriodIndex([\"2011-1\", \"2011-2\", \"2011-3\"], freq=\"M\")"
   ]
  },
  {
   "cell_type": "code",
   "execution_count": 26,
   "metadata": {},
   "outputs": [
    {
     "data": {
      "text/plain": [
       "PeriodIndex(['2011-01-31', '2011-02-28', '2011-03-31'], dtype='period[D]')"
      ]
     },
     "execution_count": 26,
     "metadata": {},
     "output_type": "execute_result"
    }
   ],
   "source": [
    "pd.PeriodIndex([\"2011-1\", \"2011-2\", \"2011-3\"], freq=\"M\").astype('period[D]')"
   ]
  },
  {
   "cell_type": "markdown",
   "metadata": {},
   "source": [
    "`asfreq`"
   ]
  },
  {
   "cell_type": "code",
   "execution_count": 27,
   "metadata": {},
   "outputs": [
    {
     "data": {
      "text/plain": [
       "Period('2011-01', 'M')"
      ]
     },
     "execution_count": 27,
     "metadata": {},
     "output_type": "execute_result"
    }
   ],
   "source": [
    "p = pd.Period(\"2011\", freq=\"A-DEC\") # Annual, end in December\n",
    "p.asfreq('M', how='start')"
   ]
  },
  {
   "cell_type": "markdown",
   "metadata": {},
   "source": [
    "## Link between Periods and Timestamp"
   ]
  },
  {
   "cell_type": "code",
   "execution_count": 28,
   "metadata": {},
   "outputs": [
    {
     "data": {
      "text/plain": [
       "2012-01    0\n",
       "2012-02    1\n",
       "2012-03    2\n",
       "2012-04    3\n",
       "2012-05    4\n",
       "Freq: M, dtype: int64"
      ]
     },
     "execution_count": 28,
     "metadata": {},
     "output_type": "execute_result"
    }
   ],
   "source": [
    "rng = pd.date_range('1/1/2012', periods=5, freq='M')\n",
    "ts = pd.Series(range(len(rng)), index=rng)\n",
    "ps = ts.to_period()\n",
    "ps"
   ]
  },
  {
   "cell_type": "code",
   "execution_count": 29,
   "metadata": {},
   "outputs": [
    {
     "data": {
      "text/plain": [
       "2012-01-01    0\n",
       "2012-02-01    1\n",
       "2012-03-01    2\n",
       "2012-04-01    3\n",
       "2012-05-01    4\n",
       "Freq: MS, dtype: int64"
      ]
     },
     "execution_count": 29,
     "metadata": {},
     "output_type": "execute_result"
    }
   ],
   "source": [
    "ps.to_timestamp()"
   ]
  },
  {
   "cell_type": "markdown",
   "metadata": {},
   "source": [
    "## More on Time deltas\n",
    "> **Limitations** timedeltas use 64 bit integers in nanosecond. can be looked up by `pd.Timedelta.min` and `pd.Timedelta.max`.\n",
    "\n",
    "- Timedelta supports numerical calculations.\n",
    "- pd.Timedelta_range."
   ]
  }
 ],
 "metadata": {
  "interpreter": {
   "hash": "6d5fb178fc65cce451573df3d2e23d32b64c7616f0076924db35c252274d97ff"
  },
  "kernelspec": {
   "display_name": "Python 3 (ipykernel)",
   "language": "python",
   "name": "python3"
  },
  "language_info": {
   "codemirror_mode": {
    "name": "ipython",
    "version": 3
   },
   "file_extension": ".py",
   "mimetype": "text/x-python",
   "name": "python",
   "nbconvert_exporter": "python",
   "pygments_lexer": "ipython3",
   "version": "3.7.4"
  },
  "toc": {
   "base_numbering": 1,
   "nav_menu": {},
   "number_sections": true,
   "sideBar": true,
   "skip_h1_title": false,
   "title_cell": "Table of Contents",
   "title_sidebar": "Contents",
   "toc_cell": false,
   "toc_position": {},
   "toc_section_display": true,
   "toc_window_display": false
  }
 },
 "nbformat": 4,
 "nbformat_minor": 2
}
