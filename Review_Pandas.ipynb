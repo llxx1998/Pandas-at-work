{
 "cells": [
  {
   "cell_type": "code",
   "execution_count": 8,
   "metadata": {},
   "outputs": [],
   "source": [
    "import pandas as pd\n",
    "import numpy as np"
   ]
  },
  {
   "cell_type": "markdown",
   "metadata": {},
   "source": [
    "# Time in Pandas\n",
    "https://pandas.pydata.org/docs/user_guide/timeseries.html#timeseries-offset-aliases\n",
    "\n",
    "4 kinds in Pandas:\n",
    "- Date times: \n",
    "\n",
    "    Creation: `to_datetime`, `date_range`\n",
    "\n",
    "    Scalar (single value): `Timestamp`\n",
    "\n",
    "- Time deltas:\n",
    "\n",
    "    Creation: `to_timedelta`, `timedelta_range`\n",
    "\n",
    "    Scalar (single value): `Timedelta`\n",
    "\n",
    "- Time spans:\n",
    "\n",
    "    Creation: `Period`, `Period_range`\n",
    "\n",
    "    Scalar (single value): `Period`\n",
    "\n",
    "- Date offsets:\n",
    "\n",
    "    Creation: `DateOffset`\n",
    "\n",
    "    Scalar: `DateOffset`\n"
   ]
  },
  {
   "cell_type": "markdown",
   "metadata": {},
   "source": [
    "## Frequency\n",
    "\n",
    "*S after a freq represents start. B in front of a freq means business setting*. \n",
    "\n",
    "B: business day\n",
    "\n",
    "C: custom business day\n",
    "\n",
    "D: calendar day\n",
    "\n",
    "W: weekly\n",
    "\n",
    "M: month **end**\n",
    "\n",
    "SM: semi-month end\n",
    "\n",
    "BM: business month end\n",
    "\n",
    "MS: month **start**\n",
    "\n",
    "Q: quarter\n",
    "\n",
    "BQ: business quarter end\n",
    "\n",
    "Y: year end\n",
    "\n",
    "H: hour\n",
    "\n",
    "T: minute\n",
    "\n",
    "S: second"
   ]
  },
  {
   "cell_type": "code",
   "execution_count": 19,
   "metadata": {},
   "outputs": [
    {
     "data": {
      "text/plain": [
       "DatetimeIndex(['2022-01-01', '2023-01-01', '2024-01-01', '2025-01-01',\n",
       "               '2026-01-01', '2027-01-01', '2028-01-01'],\n",
       "              dtype='datetime64[ns]', freq='AS-JAN')"
      ]
     },
     "execution_count": 19,
     "metadata": {},
     "output_type": "execute_result"
    }
   ],
   "source": [
    "pd.date_range('2022-01-01', periods=7, freq='AS')"
   ]
  },
  {
   "cell_type": "markdown",
   "metadata": {},
   "source": [
    "**Custom Frequency**\n",
    "\n",
    "When customizing frequency, one have to use `bdate_range` rather than `date_range`."
   ]
  },
  {
   "cell_type": "code",
   "execution_count": 72,
   "metadata": {},
   "outputs": [
    {
     "data": {
      "text/plain": [
       "DatetimeIndex(['2022-01-03', '2022-01-07', '2022-01-10', '2022-01-12',\n",
       "               '2022-01-14', '2022-01-17', '2022-01-19', '2022-01-21',\n",
       "               '2022-01-24', '2022-01-26'],\n",
       "              dtype='datetime64[ns]', freq='C')"
      ]
     },
     "execution_count": 72,
     "metadata": {},
     "output_type": "execute_result"
    }
   ],
   "source": [
    "weekmask = 'Mon Wed Fri'\n",
    "holidays = ['2022-01-05']\n",
    "pd.bdate_range('2022-01-01', periods=10, freq='C', weekmask=weekmask, holidays=holidays)"
   ]
  },
  {
   "cell_type": "markdown",
   "metadata": {},
   "source": [
    "## Time Zone\n"
   ]
  },
  {
   "cell_type": "code",
   "execution_count": 35,
   "metadata": {},
   "outputs": [
    {
     "name": "stdout",
     "output_type": "stream",
     "text": [
      "DatetimeIndex(['2022-01-01 00:00:00+00:00', '2022-01-02 00:00:00+00:00',\n",
      "               '2022-01-03 00:00:00+00:00', '2022-01-04 00:00:00+00:00',\n",
      "               '2022-01-05 00:00:00+00:00', '2022-01-06 00:00:00+00:00',\n",
      "               '2022-01-07 00:00:00+00:00'],\n",
      "              dtype='datetime64[ns, UTC]', freq='D')\n",
      "DatetimeIndex(['2021-12-31 16:00:00-08:00', '2022-01-01 16:00:00-08:00',\n",
      "               '2022-01-02 16:00:00-08:00', '2022-01-03 16:00:00-08:00',\n",
      "               '2022-01-04 16:00:00-08:00', '2022-01-05 16:00:00-08:00',\n",
      "               '2022-01-06 16:00:00-08:00'],\n",
      "              dtype='datetime64[ns, US/Pacific]', freq='D')\n"
     ]
    }
   ],
   "source": [
    "time = pd.date_range('2022-01-01', periods=7, freq='D', tz='UTC')\n",
    "# time = time.tz_localize('UTC')\n",
    "print(time)\n",
    "time = time.tz_convert('US/Pacific')\n",
    "print(time)"
   ]
  },
  {
   "cell_type": "markdown",
   "metadata": {},
   "source": [
    "## Resample\n",
    "Only apply to `pd.Series`."
   ]
  },
  {
   "cell_type": "code",
   "execution_count": 37,
   "metadata": {},
   "outputs": [
    {
     "data": {
      "text/plain": [
       "2021-12-31 00:00:00-08:00    0.5\n",
       "2022-01-02 00:00:00-08:00    2.5\n",
       "2022-01-04 00:00:00-08:00    4.5\n",
       "2022-01-06 00:00:00-08:00    6.0\n",
       "Freq: 2D, dtype: float64"
      ]
     },
     "execution_count": 37,
     "metadata": {},
     "output_type": "execute_result"
    }
   ],
   "source": [
    "# time.resample('2D').mean() <- this does not work. \n",
    "ts = pd.Series(range(len(time)), index=time)\n",
    "ts.resample('2D').mean()"
   ]
  },
  {
   "cell_type": "markdown",
   "metadata": {},
   "source": [
    "## Offsets\n",
    "A easier way to increment certain time period than `pd.Timedelta`."
   ]
  },
  {
   "cell_type": "code",
   "execution_count": 49,
   "metadata": {},
   "outputs": [
    {
     "name": "stdout",
     "output_type": "stream",
     "text": [
      "<built-in method day_name of Timestamp object at 0x7fe6b5f32b50> 5 1 False True\n",
      "2022-01-02 00:00:00\n",
      "2022-02-28 00:00:00\n"
     ]
    }
   ],
   "source": [
    "tp = pd.Timestamp('2022-01-01')\n",
    "print(tp.day_name, tp.day_of_week, tp.day_of_year, tp.is_leap_year, tp.is_month_start)\n",
    "tp = tp + pd.Timedelta('1 day')\n",
    "print(tp)\n",
    "\n",
    "tp = tp + pd.offsets.MonthEnd(2)\n",
    "print(tp)"
   ]
  },
  {
   "cell_type": "markdown",
   "metadata": {},
   "source": [
    "## Periods"
   ]
  },
  {
   "cell_type": "code",
   "execution_count": 51,
   "metadata": {},
   "outputs": [
    {
     "data": {
      "text/plain": [
       "PeriodIndex(['2022-01', '2022-02', '2022-03'], dtype='period[M]')"
      ]
     },
     "execution_count": 51,
     "metadata": {},
     "output_type": "execute_result"
    }
   ],
   "source": [
    "pd.period_range('2022-01-01', freq='M', periods=3)"
   ]
  },
  {
   "cell_type": "code",
   "execution_count": 54,
   "metadata": {},
   "outputs": [
    {
     "data": {
      "text/plain": [
       "Period('2022', 'A-DEC')"
      ]
     },
     "execution_count": 54,
     "metadata": {},
     "output_type": "execute_result"
    }
   ],
   "source": [
    "pd.Period('2022')"
   ]
  },
  {
   "cell_type": "markdown",
   "metadata": {},
   "source": [
    "## Timestamps\n",
    "`errors` parameter can be `raise`, `ignore`, `coerce`."
   ]
  },
  {
   "cell_type": "code",
   "execution_count": 61,
   "metadata": {},
   "outputs": [
    {
     "data": {
      "text/plain": [
       "DatetimeIndex(['2006-12-31', '2022-01-01'], dtype='datetime64[ns]', freq=None)"
      ]
     },
     "execution_count": 61,
     "metadata": {},
     "output_type": "execute_result"
    }
   ],
   "source": [
    "pd.to_datetime(['2006-12-31 00:00', '2022-01-01 00:00'], format='%Y-%m-%d %H:%M')"
   ]
  },
  {
   "cell_type": "markdown",
   "metadata": {},
   "source": [
    "Generate time from data frame. "
   ]
  },
  {
   "cell_type": "code",
   "execution_count": 64,
   "metadata": {},
   "outputs": [
    {
     "data": {
      "text/plain": [
       "0   2015-02-04\n",
       "1   2016-03-05\n",
       "dtype: datetime64[ns]"
      ]
     },
     "execution_count": 64,
     "metadata": {},
     "output_type": "execute_result"
    }
   ],
   "source": [
    "df = pd.DataFrame({\"year\": [2015, 2016], \"month\": [2, 3], \"day\": [4, 5], \"hour\": [2, 3]})\n",
    "pd.to_datetime(df[['year', 'month', 'day']])"
   ]
  },
  {
   "cell_type": "markdown",
   "metadata": {},
   "source": [
    "Generate from `unit`, which can be D, s, ms, us, ns."
   ]
  },
  {
   "cell_type": "markdown",
   "metadata": {},
   "source": [
    "> **Warning**\n",
    "cannot take in tz for `to_datetime`"
   ]
  },
  {
   "cell_type": "code",
   "execution_count": 69,
   "metadata": {},
   "outputs": [
    {
     "data": {
      "text/plain": [
       "DatetimeIndex(['2012-10-08 18:15:05+00:00', '2012-10-09 18:15:05+00:00',\n",
       "               '2012-10-10 18:15:05+00:00', '2012-10-11 18:15:05+00:00',\n",
       "               '2012-10-12 18:15:05+00:00'],\n",
       "              dtype='datetime64[ns, UTC]', freq=None)"
      ]
     },
     "execution_count": 69,
     "metadata": {},
     "output_type": "execute_result"
    }
   ],
   "source": [
    "pd.to_datetime([1349720105, 1349806505, 1349892905, 1349979305, 1350065705], unit=\"s\").tz_localize(\n",
    "    'UTC')"
   ]
  },
  {
   "cell_type": "code",
   "execution_count": 70,
   "metadata": {},
   "outputs": [
    {
     "data": {
      "text/plain": [
       "DatetimeIndex(['1960-01-02', '1960-01-03', '1960-01-04'], dtype='datetime64[ns]', freq=None)"
      ]
     },
     "execution_count": 70,
     "metadata": {},
     "output_type": "execute_result"
    }
   ],
   "source": [
    "pd.to_datetime([1, 2, 3], unit='D', origin='1960-01-01')"
   ]
  },
  {
   "cell_type": "markdown",
   "metadata": {},
   "source": [
    "## Indexing"
   ]
  },
  {
   "cell_type": "code",
   "execution_count": 74,
   "metadata": {},
   "outputs": [
    {
     "name": "stderr",
     "output_type": "stream",
     "text": [
      "/Users/louxiao/opt/anaconda3/lib/python3.7/site-packages/ipykernel_launcher.py:3: FutureWarning: Indexing a DataFrame with a datetimelike index using a single string to slice the rows, like `frame[string]`, is deprecated and will be removed in a future version. Use `frame.loc[string]` instead.\n",
      "  This is separate from the ipykernel package so we can avoid doing imports until\n"
     ]
    },
    {
     "data": {
      "text/html": [
       "<div>\n",
       "<style scoped>\n",
       "    .dataframe tbody tr th:only-of-type {\n",
       "        vertical-align: middle;\n",
       "    }\n",
       "\n",
       "    .dataframe tbody tr th {\n",
       "        vertical-align: top;\n",
       "    }\n",
       "\n",
       "    .dataframe thead th {\n",
       "        text-align: right;\n",
       "    }\n",
       "</style>\n",
       "<table border=\"1\" class=\"dataframe\">\n",
       "  <thead>\n",
       "    <tr style=\"text-align: right;\">\n",
       "      <th></th>\n",
       "      <th>A</th>\n",
       "    </tr>\n",
       "  </thead>\n",
       "  <tbody>\n",
       "    <tr>\n",
       "      <th>2013-02-01 00:00:00</th>\n",
       "      <td>-0.710944</td>\n",
       "    </tr>\n",
       "    <tr>\n",
       "      <th>2013-02-01 00:01:00</th>\n",
       "      <td>1.601816</td>\n",
       "    </tr>\n",
       "    <tr>\n",
       "      <th>2013-02-01 00:02:00</th>\n",
       "      <td>-0.429343</td>\n",
       "    </tr>\n",
       "    <tr>\n",
       "      <th>2013-02-01 00:03:00</th>\n",
       "      <td>0.345044</td>\n",
       "    </tr>\n",
       "    <tr>\n",
       "      <th>2013-02-01 00:04:00</th>\n",
       "      <td>-1.188630</td>\n",
       "    </tr>\n",
       "    <tr>\n",
       "      <th>...</th>\n",
       "      <td>...</td>\n",
       "    </tr>\n",
       "    <tr>\n",
       "      <th>2013-02-28 23:55:00</th>\n",
       "      <td>-0.473344</td>\n",
       "    </tr>\n",
       "    <tr>\n",
       "      <th>2013-02-28 23:56:00</th>\n",
       "      <td>1.174343</td>\n",
       "    </tr>\n",
       "    <tr>\n",
       "      <th>2013-02-28 23:57:00</th>\n",
       "      <td>1.089370</td>\n",
       "    </tr>\n",
       "    <tr>\n",
       "      <th>2013-02-28 23:58:00</th>\n",
       "      <td>0.297622</td>\n",
       "    </tr>\n",
       "    <tr>\n",
       "      <th>2013-02-28 23:59:00</th>\n",
       "      <td>0.771543</td>\n",
       "    </tr>\n",
       "  </tbody>\n",
       "</table>\n",
       "<p>40320 rows × 1 columns</p>\n",
       "</div>"
      ],
      "text/plain": [
       "                            A\n",
       "2013-02-01 00:00:00 -0.710944\n",
       "2013-02-01 00:01:00  1.601816\n",
       "2013-02-01 00:02:00 -0.429343\n",
       "2013-02-01 00:03:00  0.345044\n",
       "2013-02-01 00:04:00 -1.188630\n",
       "...                       ...\n",
       "2013-02-28 23:55:00 -0.473344\n",
       "2013-02-28 23:56:00  1.174343\n",
       "2013-02-28 23:57:00  1.089370\n",
       "2013-02-28 23:58:00  0.297622\n",
       "2013-02-28 23:59:00  0.771543\n",
       "\n",
       "[40320 rows x 1 columns]"
      ]
     },
     "execution_count": 74,
     "metadata": {},
     "output_type": "execute_result"
    }
   ],
   "source": [
    "dft = pd.DataFrame(np.random.randn(100000, 1), columns=[\"A\"], index=pd.date_range(\n",
    "    \"20130101\", periods=100000, freq=\"T\"))\n",
    "dft['2013-02']\n",
    "dft.loc['2013-02', ]"
   ]
  },
  {
   "cell_type": "markdown",
   "metadata": {},
   "source": [
    "In particular, ``loc`` includes both start time/index and end time/index. \n",
    "\n",
    "Now, consider multi-indexing..."
   ]
  },
  {
   "cell_type": "code",
   "execution_count": 79,
   "metadata": {},
   "outputs": [
    {
     "data": {
      "text/html": [
       "<div>\n",
       "<style scoped>\n",
       "    .dataframe tbody tr th:only-of-type {\n",
       "        vertical-align: middle;\n",
       "    }\n",
       "\n",
       "    .dataframe tbody tr th {\n",
       "        vertical-align: top;\n",
       "    }\n",
       "\n",
       "    .dataframe thead th {\n",
       "        text-align: right;\n",
       "    }\n",
       "</style>\n",
       "<table border=\"1\" class=\"dataframe\">\n",
       "  <thead>\n",
       "    <tr style=\"text-align: right;\">\n",
       "      <th></th>\n",
       "      <th></th>\n",
       "      <th>A</th>\n",
       "    </tr>\n",
       "  </thead>\n",
       "  <tbody>\n",
       "    <tr>\n",
       "      <th rowspan=\"2\" valign=\"top\">2013-01-05 00:00:00</th>\n",
       "      <th>a</th>\n",
       "      <td>-1.105788</td>\n",
       "    </tr>\n",
       "    <tr>\n",
       "      <th>b</th>\n",
       "      <td>-1.149616</td>\n",
       "    </tr>\n",
       "    <tr>\n",
       "      <th rowspan=\"2\" valign=\"top\">2013-01-05 12:00:00</th>\n",
       "      <th>a</th>\n",
       "      <td>-0.999896</td>\n",
       "    </tr>\n",
       "    <tr>\n",
       "      <th>b</th>\n",
       "      <td>-0.174160</td>\n",
       "    </tr>\n",
       "  </tbody>\n",
       "</table>\n",
       "</div>"
      ],
      "text/plain": [
       "                              A\n",
       "2013-01-05 00:00:00 a -1.105788\n",
       "                    b -1.149616\n",
       "2013-01-05 12:00:00 a -0.999896\n",
       "                    b -0.174160"
      ]
     },
     "execution_count": 79,
     "metadata": {},
     "output_type": "execute_result"
    }
   ],
   "source": [
    "dft2 = pd.DataFrame(np.random.randn(20, 1), columns=[\"A\"], \n",
    "                    index=pd.MultiIndex.from_product([pd.date_range(\"20130101\", periods=10, freq=\"12H\"), [\"a\", \"b\"]]), )\n",
    "\n",
    "# dft2['2013-01-05'] <- this can not work. \n",
    "dft2.loc['2013-01-05']"
   ]
  },
  {
   "cell_type": "markdown",
   "metadata": {},
   "source": [
    "Another way to select: `truncate`. Use `before` and `after` to truncate the unwanted dates. "
   ]
  },
  {
   "cell_type": "code",
   "execution_count": 80,
   "metadata": {},
   "outputs": [
    {
     "data": {
      "text/html": [
       "<div>\n",
       "<style scoped>\n",
       "    .dataframe tbody tr th:only-of-type {\n",
       "        vertical-align: middle;\n",
       "    }\n",
       "\n",
       "    .dataframe tbody tr th {\n",
       "        vertical-align: top;\n",
       "    }\n",
       "\n",
       "    .dataframe thead th {\n",
       "        text-align: right;\n",
       "    }\n",
       "</style>\n",
       "<table border=\"1\" class=\"dataframe\">\n",
       "  <thead>\n",
       "    <tr style=\"text-align: right;\">\n",
       "      <th></th>\n",
       "      <th>A</th>\n",
       "    </tr>\n",
       "  </thead>\n",
       "  <tbody>\n",
       "    <tr>\n",
       "      <th>2013-02-05 00:00:00</th>\n",
       "      <td>-0.009462</td>\n",
       "    </tr>\n",
       "    <tr>\n",
       "      <th>2013-02-05 00:01:00</th>\n",
       "      <td>-0.493820</td>\n",
       "    </tr>\n",
       "    <tr>\n",
       "      <th>2013-02-05 00:02:00</th>\n",
       "      <td>-1.489708</td>\n",
       "    </tr>\n",
       "    <tr>\n",
       "      <th>2013-02-05 00:03:00</th>\n",
       "      <td>-1.854218</td>\n",
       "    </tr>\n",
       "    <tr>\n",
       "      <th>2013-02-05 00:04:00</th>\n",
       "      <td>-1.689612</td>\n",
       "    </tr>\n",
       "    <tr>\n",
       "      <th>...</th>\n",
       "      <td>...</td>\n",
       "    </tr>\n",
       "    <tr>\n",
       "      <th>2013-02-19 23:56:00</th>\n",
       "      <td>1.533875</td>\n",
       "    </tr>\n",
       "    <tr>\n",
       "      <th>2013-02-19 23:57:00</th>\n",
       "      <td>1.176951</td>\n",
       "    </tr>\n",
       "    <tr>\n",
       "      <th>2013-02-19 23:58:00</th>\n",
       "      <td>1.144231</td>\n",
       "    </tr>\n",
       "    <tr>\n",
       "      <th>2013-02-19 23:59:00</th>\n",
       "      <td>-0.986800</td>\n",
       "    </tr>\n",
       "    <tr>\n",
       "      <th>2013-02-20 00:00:00</th>\n",
       "      <td>0.181666</td>\n",
       "    </tr>\n",
       "  </tbody>\n",
       "</table>\n",
       "<p>21601 rows × 1 columns</p>\n",
       "</div>"
      ],
      "text/plain": [
       "                            A\n",
       "2013-02-05 00:00:00 -0.009462\n",
       "2013-02-05 00:01:00 -0.493820\n",
       "2013-02-05 00:02:00 -1.489708\n",
       "2013-02-05 00:03:00 -1.854218\n",
       "2013-02-05 00:04:00 -1.689612\n",
       "...                       ...\n",
       "2013-02-19 23:56:00  1.533875\n",
       "2013-02-19 23:57:00  1.176951\n",
       "2013-02-19 23:58:00  1.144231\n",
       "2013-02-19 23:59:00 -0.986800\n",
       "2013-02-20 00:00:00  0.181666\n",
       "\n",
       "[21601 rows x 1 columns]"
      ]
     },
     "execution_count": 80,
     "metadata": {},
     "output_type": "execute_result"
    }
   ],
   "source": [
    "dft.truncate(before='2013-02-05', after='2013-02-20')"
   ]
  }
 ],
 "metadata": {
  "interpreter": {
   "hash": "6d5fb178fc65cce451573df3d2e23d32b64c7616f0076924db35c252274d97ff"
  },
  "kernelspec": {
   "display_name": "Python 3.7.4 ('base')",
   "language": "python",
   "name": "python3"
  },
  "language_info": {
   "codemirror_mode": {
    "name": "ipython",
    "version": 3
   },
   "file_extension": ".py",
   "mimetype": "text/x-python",
   "name": "python",
   "nbconvert_exporter": "python",
   "pygments_lexer": "ipython3",
   "version": "3.7.4"
  },
  "orig_nbformat": 4
 },
 "nbformat": 4,
 "nbformat_minor": 2
}
